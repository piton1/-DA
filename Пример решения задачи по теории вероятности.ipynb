{
 "cells": [
  {
   "cell_type": "markdown",
   "id": "b114b086",
   "metadata": {},
   "source": [
    "# Пример решения задачи по теории вероятности\n",
    "\n",
    " <span style=\"color:white\">*&copy; Alexei Zuev, please contact via GIT-hub link bellow*</span>"
   ]
  },
  {
   "cell_type": "markdown",
   "id": "0dcee3e9",
   "metadata": {},
   "source": [
    "## <span style=\"color:purple\">Условие задачи</span> \n",
    "[Источник](http://www.mathprofi.ru/files/gotovye_zadachi_na_fpv_i_formuly_bajesa.pdf)\n",
    "\n",
    "<span style=\"color:blue\">*В группе из __25__ человек, пришедших сдавать экзамен по теории вероятностей, имеется: <br>\n",
    "    - __5__ отличников, <br>\n",
    "    - __12__ подготовленных хорошо, <br>\n",
    "    - __5__ – удовлетворительно, <br> \n",
    "    - __3__ студента плохо подготовлены. <br><br>\n",
    "    Отличники знают все __30__ вопросов программы, <br> Хорошо подготовленные – __25__, <br>Подготовленные удовлетворительно – __15__,<br> Плохо подготовленные знают лишь __10__ вопросов. <bv> <br> <br>Выбранный наудачу студент ответил на __2__ заданных вопроса. <br>Найти апостеорную вероятность следующей гипотезы: __студент подготовлен плохо__.*</span>\n",
    "    \n",
    " <span style=\"color:white\">*&copy; Alexei Zuev, please contact via GIT-hub link bellow*</span>"
   ]
  },
  {
   "cell_type": "markdown",
   "id": "ef8c9172",
   "metadata": {},
   "source": [
    "## Как решается задача \"по классике\"\n",
    "\n",
    "<span style=\"color:darkgreen\">*Вероятность появления на экзамене __отличника__:*</span> $$p_1 = \\frac{5}{25} = \\frac{1}{5}$$  \n",
    "<span style=\"color:darkgreen\">*Вероятность появления на экзамене __хорошиста__:*</span> $$p_2 = \\frac{12}{25}$$  \n",
    "<span style=\"color:darkgreen\">*Вероятность появления на экзамене __\"троечника\"__:*</span> $$p_3 = \\frac{5}{25} = \\frac{1}{5}$$  \n",
    "<span style=\"color:darkgreen\">*Вероятность появления на экзамене __плохо подготовленного__ студента:*</span> $$p_1 = \\frac{3}{25}$$ <br>\n",
    "<br>\n",
    "<span style=\"color:cadetblue\">*Посчитаем сколькими способами __можно выбрать__ 2 вопроса на экзамене:*</span> $$C^{2}_{30} = \\frac{30!}{28!*2!} = \\frac{29\\cdot{30}}{2} = 435$$  \n",
    "<span style=\"color:darkgreen\">*Вероятность того, что __отличник__ ответит на __2__ заданных\n",
    "вопроса:*</span> <span style=\"font-size: 20px;\">   $^{\\sim}_{p_1} = \\frac{C^{2}_{30}}{C^{2}_{30}} = \\frac{435}{435} = 1$</span>   \n",
    "<br>\n",
    "<br>\n",
    "<span style=\"color:cadetblue\">*Подсчитаем, сколькими способами можно выбрать 2 вопроса, ответы на которые\n",
    "знает __хорошо подготовленный__ студент:*</span> $$C^{2}_{25} = \\frac{25!}{23!\\cdot{2!}} = \\frac{24\\cdot{25}}{2} = 300$$  \n",
    "<span style=\"color:darkgreen\">*Вероятность того, что __хорошист__ ответит на __2__ заданных\n",
    "вопроса:*</span> <span style=\"font-size: 20px;\">   $^{\\sim}_{p_2} = \\frac{C^{2}_{25}}{C^{2}_{30}} = \\frac{300}{435} = \\frac{20}{29}$</span>  \n",
    "<br>\n",
    "<br>\n",
    "<span style=\"color:cadetblue\">*Подсчитаем, сколькими способами можно выбрать 2 вопроса, ответы на которые\n",
    "знает __удовлетворительно подготовленный__ студент:*</span> $$C^{2}_{15} = \\frac{15!}{13!\\cdot{2!}} = \\frac{14\\cdot{15}}{2} = 105$$  \n",
    "<span style=\"color:darkgreen\">*Вероятность того, что __\"троечник\"__ ответит на __2__ заданных\n",
    "вопроса:*</span> <span style=\"font-size: 20px;\">   $^{\\sim}_{p_3} = \\frac{C^{2}_{15}}{C^{2}_{30}} = \\frac{105}{435} = \\frac{7}{29}$</span>  \n",
    "<br>\n",
    "<br>\n",
    "<span style=\"color:cadetblue\">*Подсчитаем, сколькими способами можно выбрать 2 вопроса, ответы на которые\n",
    "знает __плохо подготовленный__ студент:*</span> $$C^{2}_{10} = \\frac{10!}{8!\\cdot{2!}} = \\frac{9\\cdot{10}}{2} = 45$$  \n",
    "<span style=\"color:darkgreen\">*Вероятность того, что __плохо подготовленный студент__ ответит на __2__ заданных\n",
    "вопроса:*</span> <span style=\"font-size: 20px;\">   $^{\\sim}_{p_4} = \\frac{C^{2}_{10}}{C^{2}_{30}} = \\frac{45}{435} = \\frac{3}{29}$</span>  \n",
    "<br>\n",
    "<br>\n",
    "<br>\n",
    "<span style=\"color:purple\">*По формуле полной вероятности определяем вероятность того, что __вызванный наудачу__ студент\n",
    "__ответит на 2 вопроса__:*</span> $$p = p_1\\cdot{\\tilde{p_1}} + p_2\\cdot{\\tilde{p_2}} + p_3\\cdot{\\tilde{p_3}} + p_4\\cdot{\\tilde{p_4}} = \\frac{1}{5}\\cdot{1} + \\frac{12}{25}\\cdot{\\frac{20}{29}} + \\frac{1}{5}\\cdot{\\frac{7}{29}} + \\frac{3}{25}\\cdot{\\frac{3}{29}} = \\frac{1}{5} + \\frac{48}{145} + \\frac{7}{145} + \\frac{9}{725} = \\frac{429}{725} \\approx{0.5917...} $$\n",
    "<br>\n",
    "<br>\n",
    "<br>\n",
    "<span style=\"color:purple\">*По теореме Байеса определяем вероятность того, что __плохо подготовленный__ студент\n",
    "__ответит на 2 вопроса__:*</span> \n",
    "$$\\hat{p_4} = \\frac{p_4\\cdot{\\tilde{p_4}}}{p_4} = \\frac{9}{725}\\cdot{\\frac{725}{429}} = \\frac{3}{143}$$\n",
    "\n",
    "### Ответ: $\\frac{3}{143} \\approx {0.021}$\n",
    "\n",
    " <span style=\"color:white\">*&copy; Alexei Zuev, please contact via GIT-hub link bellow*</span>"
   ]
  },
  {
   "cell_type": "markdown",
   "id": "c26d3fc4",
   "metadata": {},
   "source": [
    "### Ответ получен......  Но .....:\n",
    "#### Практично ли данное решение?\n",
    "#### Легко ли объяснить решение не разбирающемуся в статистике человеку?\n",
    "#### Можно ли легко управлять условиями задачи? \n",
    "_Т.е. если условия задачи меняются. Например, в группе стало 7 отличников и остался 1 \"двоечник\"?_\n",
    "#### Может ли данное решение легко быть воспроизведено или масштабировано?\n",
    "#### Будет ли решение полезно для создания синтетических наборов данных \n",
    "_Например, для машинного обучения?_\n",
    "\n",
    " <span style=\"color:white\">*&copy; Alexei Zuev, please contact via GIT-hub link bellow*</span>"
   ]
  },
  {
   "cell_type": "markdown",
   "id": "498ea0e5",
   "metadata": {},
   "source": [
    "### <span style=\"color:green\">Чтобы снять данные ограничения решаем задачу путем моделирования экзамена. <br> В результате получаем необходимые нам для расчета данные _БЕЗ_ использования сложных ручных расчётов:</span>\n",
    "#### 1. Используем соответствующие методы Python\n",
    "#### 2. Описываем условия задачи в понятном машине формате\n",
    "#### 3. <span style=\"color:darkviolet\">Многократно _(не менее 100 тысяч раз)_ воспроизводим смоделированный процесс</span> \n",
    "<span style=\"color:darkviolet\"> _(в реальности данный алгоритм воспроизвести довольно сложно, но машина стерпит и не такое)_ </span>\n",
    "#### 4. Собираем результаты в каждом эксперименте\n",
    "#### 5. <span style=\"color:green\">Считаем статистику самым простым способом </span>\n",
    "    \n",
    "<span style=\"color:white\">*&copy; Alexei Zuev, please contact via GIT-hub link bellow*</span>"
   ]
  },
  {
   "cell_type": "markdown",
   "id": "9b96195a",
   "metadata": {},
   "source": [
    "#### _Иными словами виртуальная группа будет десятки/сотни тысяч раз сдавать экзамен, а по накопленным результатам будет понятно насколько успешна в проходждении экзамена та или ина категория студентов_ \n",
    "### <span style=\"color:green\">_Примерно за 1 минуту проведем десятки или сотни тысяч виртуальных экзаменов!_</span>"
   ]
  },
  {
   "cell_type": "markdown",
   "id": "359a7106",
   "metadata": {},
   "source": [
    " "
   ]
  },
  {
   "cell_type": "markdown",
   "id": "594bcf04",
   "metadata": {},
   "source": [
    "### Вариант 1\n",
    "_Моделируем ASIS_\n",
    "\n",
    " <span style=\"color:white\">*&copy; Alexei Zuev, please contact via GIT-hub link bellow*</span>"
   ]
  },
  {
   "cell_type": "code",
   "execution_count": 1,
   "id": "02c88c1e",
   "metadata": {},
   "outputs": [],
   "source": [
    "# Подгружаем необходимые библиотеки\n",
    "import numpy as np\n",
    "import random\n",
    "from tqdm.notebook import tqdm"
   ]
  },
  {
   "cell_type": "code",
   "execution_count": 2,
   "id": "0045b79a",
   "metadata": {},
   "outputs": [],
   "source": [
    "# Инициируем данные по условиям задачи\n",
    "# Общее число экзаменационых вопросов\n",
    "n_questions = 30 \n",
    "# Задаем число студентов по категориям успеваемости\n",
    "group = [\"5\"]*5 +[\"4\"]*12 + [\"3\"]*5 + [\"2\"]*3\n",
    "# Число вопросов в экзаменационном билете\n",
    "questions_in_card = 2\n",
    "# Ведем функцию распределения числа билетов в зависимости от подготовки студента\n",
    "def fill_res (n_known=n_questions):\n",
    "    n_unknown = n_questions - n_known\n",
    "    # проверяем число билетов (30)\n",
    "    assert n_known + n_unknown == 30\n",
    "    return [\"known\"]*n_known + ['Unknown']*n_unknown\n",
    "# заполняем распределение возможных результатов для отличников\n",
    "Q1 = fill_res() # по умолчанию\n",
    "# заполняем распределение возможных результатов для хорошистов\n",
    "Q2 = fill_res(25)\n",
    "# заполняем распределение возможных результатов для \"троечников\"\n",
    "Q3 = fill_res(15)\n",
    "# заполняем распределение возможных результатов для плохо подготовленных студентов\n",
    "Q4 = fill_res(10)\n",
    "# Задаем число экспериментов (число попыток прохождения экзамена)\n",
    "n = 1_000_000\n",
    "# Формируем и инициируем выборку\n",
    "# Счетчик успешных сдач экзамена по каждой категории студентов \n",
    "A = {'5':0, '4':0,'3':0, '2':0}\n",
    "# Словарь соответствий наименований катекорий и соответствующих им распределений результатов\n",
    "Q = {'5':Q1, '4':Q2,'3':Q3, '2':Q4}\n"
   ]
  },
  {
   "cell_type": "code",
   "execution_count": 3,
   "id": "0c50f395",
   "metadata": {},
   "outputs": [
    {
     "data": {
      "application/vnd.jupyter.widget-view+json": {
       "model_id": "a76dbe91c183490f814c25e7c45cd6af",
       "version_major": 2,
       "version_minor": 0
      },
      "text/plain": [
       "  0%|          | 0/1000000 [00:00<?, ?it/s]"
      ]
     },
     "metadata": {},
     "output_type": "display_data"
    }
   ],
   "source": [
    "# Генерируем выборку\n",
    "for i in tqdm(range(n)):\n",
    "    # Выбираем студента\n",
    "    student = random.choice(group)\n",
    "    # Выбираем вопросы с учетом категории студента\n",
    "    questions = np.random.choice(Q[student], size=questions_in_card, replace=False, p=None)\n",
    "    # Запоминаем случаи верных ответов\n",
    "    if questions[0] == questions[1] == \"known\":\n",
    "        A.update({student:A[student]+1}) "
   ]
  },
  {
   "cell_type": "markdown",
   "id": "068a82d4",
   "metadata": {},
   "source": [
    "#### Считаем статистику"
   ]
  },
  {
   "cell_type": "code",
   "execution_count": 4,
   "id": "f3d39054",
   "metadata": {},
   "outputs": [
    {
     "name": "stdout",
     "output_type": "stream",
     "text": [
      "Полная вероятность прохождения экзамена \n",
      "P(A)=0.5920\n"
     ]
    }
   ],
   "source": [
    "print (f'Полная вероятность прохождения экзамена \\nP(A)={sum(A.values())/n :.4f}')"
   ]
  },
  {
   "cell_type": "code",
   "execution_count": 5,
   "id": "ff6ad193",
   "metadata": {},
   "outputs": [
    {
     "name": "stdout",
     "output_type": "stream",
     "text": [
      "Вероятность прохождения экзамена плохо подготовленным студентом \n",
      "P(A|Q4)=0.0210\n"
     ]
    }
   ],
   "source": [
    "print (f'Вероятность прохождения экзамена плохо подготовленным студентом \\nP(A|Q4)={A[\"2\"]/sum(A.values()):.4f}')"
   ]
  },
  {
   "cell_type": "markdown",
   "id": "88b29cf7",
   "metadata": {},
   "source": [
    "#### Похоже на результат?"
   ]
  },
  {
   "cell_type": "markdown",
   "id": "c10d5022",
   "metadata": {},
   "source": [
    "#### А можно ли оптимизировать? Зачем  лишние действия?"
   ]
  },
  {
   "cell_type": "markdown",
   "id": "8984bc88",
   "metadata": {},
   "source": [
    "### Вариант 2\n",
    " <span style=\"color:white\">*&copy; Alexei Zuev, please contact via GIT-hub link bellow*</span>"
   ]
  },
  {
   "cell_type": "code",
   "execution_count": 6,
   "id": "1ccc4245",
   "metadata": {},
   "outputs": [],
   "source": [
    "# Подгружаем необходимые библиотеки\n",
    "import numpy as np\n",
    "import random\n",
    "from tqdm.notebook import tqdm"
   ]
  },
  {
   "cell_type": "code",
   "execution_count": 7,
   "id": "c86438df",
   "metadata": {},
   "outputs": [],
   "source": [
    "# Инициируем данные по условиям задачи\n",
    "# Общее число экзаменационых вопросов,(!!!) в данном варианте может не использоваться\n",
    "n_questions = 30 \n",
    "# Возможные результаты ответа на экзаменационный вопрос \"знает/не знает\"\n",
    "results = [\"known\", \"Unknown\"]\n",
    "# Задаем число студентов по категориям успеваемости\n",
    "group = [\"5\"]*5 +[\"4\"]*12 + [\"3\"]*5 + [\"2\"]*3\n",
    "# Число вопросов в экзаменационном билете\n",
    "questions_in_card = 2\n",
    "# Задаем число известных ответов для каждой категории успеваемости студентов, \n",
    "#  (!!!) в данном варианте может не использоваться\n",
    "answers = {\n",
    "    \"5\":30,\n",
    "    \"4\":25,\n",
    "    \"3\":15,\n",
    "    \"2\":10\n",
    "}\n",
    "# Инициируем счетчик успешных сдач экзамена по каждой категории успеваемости студентов \n",
    "A = {'5':0, '4':0,'3':0, '2':0}\n",
    "# Задаем число экспериментов (число попыток прохождения экзамена)\n",
    "n = 1_000_000\n",
    "# Задаем вероятности правильного и неправильного ответа\n",
    "#  Можно также использовать формулу p = [answers[student]/n_questions, (n_questions-answers[student])/n_questions] \n",
    "#  В случае использования данной формулы задействуем n_questions и answers\n",
    "p = {\n",
    "    \"5\":[1,0],\n",
    "    \"4\":[5/6, 1/6],\n",
    "    \"3\":[.5, .5],\n",
    "    \"2\":[1/3,2/3]\n",
    "}"
   ]
  },
  {
   "cell_type": "code",
   "execution_count": 8,
   "id": "0aed0f77",
   "metadata": {},
   "outputs": [
    {
     "data": {
      "application/vnd.jupyter.widget-view+json": {
       "model_id": "16843f7556ac4627b95ce3d0b99bbf8d",
       "version_major": 2,
       "version_minor": 0
      },
      "text/plain": [
       "  0%|          | 0/1000000 [00:00<?, ?it/s]"
      ]
     },
     "metadata": {},
     "output_type": "display_data"
    }
   ],
   "source": [
    "# Генерируем выборку\n",
    "for i in tqdm(range(n)):\n",
    "    # Выбираем студента\n",
    "    student = random.choice(group)\n",
    "    # Выбираем вопросы с учетом категории успеваемости студента и с учетом вероятности правильного ответа\n",
    "    questions = np.random.choice(results, size=questions_in_card, replace=True, p=p[student])\n",
    "    # Запоминаем случаи верных ответов\n",
    "    if questions[0] == questions[1] == \"known\":\n",
    "        A.update({student:A[student]+1}) "
   ]
  },
  {
   "cell_type": "code",
   "execution_count": 9,
   "id": "fe8903c8",
   "metadata": {},
   "outputs": [
    {
     "name": "stdout",
     "output_type": "stream",
     "text": [
      "Полная вероятность прохождения экзамена \n",
      "P(A)=0.5954\n"
     ]
    }
   ],
   "source": [
    "print (f'Полная вероятность прохождения экзамена \\nP(A)={sum(A.values())/n :.4f}')"
   ]
  },
  {
   "cell_type": "code",
   "execution_count": 10,
   "id": "23c8ecb9",
   "metadata": {},
   "outputs": [
    {
     "name": "stdout",
     "output_type": "stream",
     "text": [
      "Вероятность прохождения экзамена плохо подготовленным студентом \n",
      "P(A|Q4)=0.0219\n"
     ]
    }
   ],
   "source": [
    "print (f'Вероятность прохождения экзамена плохо подготовленным студентом \\nP(A|Q4)={A[\"2\"]/sum(A.values()):.4f}')"
   ]
  },
  {
   "cell_type": "markdown",
   "id": "9f8b2f09",
   "metadata": {},
   "source": [
    "#### Как избавится от циклов?\n",
    "#### Попробуем более компактное решение!"
   ]
  },
  {
   "cell_type": "markdown",
   "id": "82539c97",
   "metadata": {},
   "source": [
    "### Вариант 3\n",
    " <span style=\"color:white\">*&copy; Alexei Zuev, please contact via GIT-hub link bellow*</span>"
   ]
  },
  {
   "cell_type": "code",
   "execution_count": 11,
   "id": "48a3d3d7",
   "metadata": {},
   "outputs": [],
   "source": [
    "# Подгружаем необходимые библиотеки\n",
    "import numpy as np\n",
    "import random\n",
    "import pandas as pd\n"
   ]
  },
  {
   "cell_type": "code",
   "execution_count": 12,
   "id": "5428b98e",
   "metadata": {},
   "outputs": [],
   "source": [
    "# Инициируем данные по условиям задачи\n",
    "# Общее число экзаменационых вопросов\n",
    "n_questions = 30\n",
    "# возможные результаты ответе знает/не знает\n",
    "results = [\"known\", \"Unknown\"]\n",
    "# задаем число студентов по категориям\n",
    "group = [\"5\"]*5 +[\"4\"]*12 + [\"3\"]*5 + [\"2\"]*3\n",
    "# число вопросов в экзаменационном билете\n",
    "questions_in_card = 2\n",
    "# задаем число известных ответов для каждой категории студентов\n",
    "answers = {\n",
    "    \"5\":30,\n",
    "    \"4\":25,\n",
    "    \"3\":15,\n",
    "    \"2\":10\n",
    "}\n",
    "\n",
    "# задаем число экспериментов (число попыток прохождения экзамена)\n",
    "n = 1_000_000\n",
    "# Чтобы задать вероятности правильного и неправильного ответа будем использовать конструкцию\n",
    "#  p = [answers[student]/n_questions, (n_questions-answers[student])/n_questions] \n"
   ]
  },
  {
   "cell_type": "code",
   "execution_count": 13,
   "id": "5a8d302b",
   "metadata": {},
   "outputs": [
    {
     "data": {
      "text/html": [
       "<div>\n",
       "<style scoped>\n",
       "    .dataframe tbody tr th:only-of-type {\n",
       "        vertical-align: middle;\n",
       "    }\n",
       "\n",
       "    .dataframe tbody tr th {\n",
       "        vertical-align: top;\n",
       "    }\n",
       "\n",
       "    .dataframe thead th {\n",
       "        text-align: right;\n",
       "    }\n",
       "</style>\n",
       "<table border=\"1\" class=\"dataframe\">\n",
       "  <thead>\n",
       "    <tr style=\"text-align: right;\">\n",
       "      <th></th>\n",
       "      <th>Student</th>\n",
       "    </tr>\n",
       "  </thead>\n",
       "  <tbody>\n",
       "    <tr>\n",
       "      <th>0</th>\n",
       "      <td>5</td>\n",
       "    </tr>\n",
       "    <tr>\n",
       "      <th>1</th>\n",
       "      <td>5</td>\n",
       "    </tr>\n",
       "    <tr>\n",
       "      <th>2</th>\n",
       "      <td>5</td>\n",
       "    </tr>\n",
       "    <tr>\n",
       "      <th>3</th>\n",
       "      <td>5</td>\n",
       "    </tr>\n",
       "    <tr>\n",
       "      <th>4</th>\n",
       "      <td>5</td>\n",
       "    </tr>\n",
       "    <tr>\n",
       "      <th>5</th>\n",
       "      <td>4</td>\n",
       "    </tr>\n",
       "    <tr>\n",
       "      <th>6</th>\n",
       "      <td>4</td>\n",
       "    </tr>\n",
       "  </tbody>\n",
       "</table>\n",
       "</div>"
      ],
      "text/plain": [
       "  Student\n",
       "0       5\n",
       "1       5\n",
       "2       5\n",
       "3       5\n",
       "4       5\n",
       "5       4\n",
       "6       4"
      ]
     },
     "execution_count": 13,
     "metadata": {},
     "output_type": "execute_result"
    }
   ],
   "source": [
    "# Инициируем датафрейм \n",
    "df = pd.DataFrame()\n",
    "# Наполняем значениями категорий успеваемости студентов согласно условиям задачи и с учетом числа эксериментов\n",
    "df['Student'] = group * (n//len(group))\n",
    "df.head(7)"
   ]
  },
  {
   "cell_type": "code",
   "execution_count": 14,
   "id": "9445d807",
   "metadata": {},
   "outputs": [
    {
     "name": "stdout",
     "output_type": "stream",
     "text": [
      "CPU times: user 47.8 s, sys: 955 ms, total: 48.8 s\n",
      "Wall time: 51.1 s\n"
     ]
    },
    {
     "data": {
      "text/html": [
       "<div>\n",
       "<style scoped>\n",
       "    .dataframe tbody tr th:only-of-type {\n",
       "        vertical-align: middle;\n",
       "    }\n",
       "\n",
       "    .dataframe tbody tr th {\n",
       "        vertical-align: top;\n",
       "    }\n",
       "\n",
       "    .dataframe thead th {\n",
       "        text-align: right;\n",
       "    }\n",
       "</style>\n",
       "<table border=\"1\" class=\"dataframe\">\n",
       "  <thead>\n",
       "    <tr style=\"text-align: right;\">\n",
       "      <th></th>\n",
       "      <th>Student</th>\n",
       "      <th>Result</th>\n",
       "    </tr>\n",
       "  </thead>\n",
       "  <tbody>\n",
       "    <tr>\n",
       "      <th>999995</th>\n",
       "      <td>3</td>\n",
       "      <td>knownknown</td>\n",
       "    </tr>\n",
       "    <tr>\n",
       "      <th>999996</th>\n",
       "      <td>3</td>\n",
       "      <td>UnknownUnknown</td>\n",
       "    </tr>\n",
       "    <tr>\n",
       "      <th>999997</th>\n",
       "      <td>2</td>\n",
       "      <td>UnknownUnknown</td>\n",
       "    </tr>\n",
       "    <tr>\n",
       "      <th>999998</th>\n",
       "      <td>2</td>\n",
       "      <td>Unknownknown</td>\n",
       "    </tr>\n",
       "    <tr>\n",
       "      <th>999999</th>\n",
       "      <td>2</td>\n",
       "      <td>Unknownknown</td>\n",
       "    </tr>\n",
       "  </tbody>\n",
       "</table>\n",
       "</div>"
      ],
      "text/plain": [
       "       Student          Result\n",
       "999995       3      knownknown\n",
       "999996       3  UnknownUnknown\n",
       "999997       2  UnknownUnknown\n",
       "999998       2    Unknownknown\n",
       "999999       2    Unknownknown"
      ]
     },
     "execution_count": 14,
     "metadata": {},
     "output_type": "execute_result"
    }
   ],
   "source": [
    "%%time\n",
    "# Вычисляем и фиксируем результаты экзамена для каждой категории успеваемости\n",
    "# В результете будут строки из полученых ответов, например если результаты были known и Unknown, запишется knownUnknown\n",
    "# В дальнейшем такой подход упростит подсчет результатов\n",
    "# Note: Можно также использовать (оставить) данные в формате списка типа ['known', 'Unknown'] с приростом \n",
    "#       производительности 1..2%, но дальнейшая проверка условий эти преимущества анулирует\n",
    "#       Разбиение возвращаемого списка по разным колонкам упрощает выборку, но снижает производительность\n",
    "df = df.assign(Result = lambda x: [\"\".join(np.random.choice(\n",
    "                                results, \n",
    "                                size=questions_in_card, \n",
    "                                replace=True,p=[answers[s]/n_questions ,(n_questions - answers[s])/n_questions])) \n",
    "                             for s in x['Student']])\n",
    "df.tail()"
   ]
  },
  {
   "cell_type": "code",
   "execution_count": 15,
   "id": "37aa42d3",
   "metadata": {},
   "outputs": [
    {
     "name": "stdout",
     "output_type": "stream",
     "text": [
      "Полная вероятность прохождения экзамена \n",
      "P(A)=0.5968\n"
     ]
    }
   ],
   "source": [
    "# Вычисляем полную вероятнось успешного прохождения экзамена\n",
    "# Устанавливаем первое условие отбора - оба вопроса отвечены правильно\n",
    "term1 = df['Result']=='knownknown'\n",
    "# Подсчитываем полную вероятность прохождения экзамена\n",
    "P_full = len(df.Result[term1])/len(df)\n",
    "print (f'Полная вероятность прохождения экзамена \\nP(A)={P_full :.4f}')"
   ]
  },
  {
   "cell_type": "code",
   "execution_count": 16,
   "id": "736b02f4",
   "metadata": {},
   "outputs": [
    {
     "name": "stdout",
     "output_type": "stream",
     "text": [
      "Вероятность прохождения экзамена плохо подготовленным студентом \n",
      "P(A|Q4)=0.0223\n"
     ]
    }
   ],
   "source": [
    "# Вычисляем вероятнось успешного прохождения экзамена плохо подготовленным студентом\n",
    "# Устанавливаем второе условие отбора - категория успеваемости студентов\n",
    "term2 = df['Student']=='2'\n",
    "# Подсчитываем вероятность прохождения экзамена плохо подготовленным студентом\n",
    "P_2 = len(df.Result[term1 & term2])/len(df[term1])\n",
    "print (f'Вероятность прохождения экзамена плохо подготовленным студентом \\nP(A|Q4)={P_2:.4f}')"
   ]
  },
  {
   "cell_type": "markdown",
   "id": "f14106c6",
   "metadata": {},
   "source": [
    " <span style=\"color:white\">*&copy; Alexei Zuev, please contact via GIT-hub link bellow*</span>"
   ]
  },
  {
   "cell_type": "markdown",
   "id": "b913dda3",
   "metadata": {},
   "source": [
    "&copy; Alexei Zuev, please contact via https://github.com/piton1 "
   ]
  }
 ],
 "metadata": {
  "kernelspec": {
   "display_name": "Python 3 (ipykernel)",
   "language": "python",
   "name": "python3"
  },
  "language_info": {
   "codemirror_mode": {
    "name": "ipython",
    "version": 3
   },
   "file_extension": ".py",
   "mimetype": "text/x-python",
   "name": "python",
   "nbconvert_exporter": "python",
   "pygments_lexer": "ipython3",
   "version": "3.9.13"
  }
 },
 "nbformat": 4,
 "nbformat_minor": 5
}
